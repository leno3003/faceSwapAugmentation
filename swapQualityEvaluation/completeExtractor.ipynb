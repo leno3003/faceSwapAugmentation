{
 "cells": [
  {
   "cell_type": "code",
   "execution_count": 1,
   "metadata": {},
   "outputs": [],
   "source": [
    "from DFLIMG import DFLJPG\n",
    "import glob\n",
    "import numpy as np\n",
    "import matplotlib.pyplot as plt\n",
    "import os, sys, math\n",
    "import csv\n",
    "import cv2 "
   ]
  },
  {
   "cell_type": "code",
   "execution_count": 2,
   "metadata": {},
   "outputs": [],
   "source": [
    "def normalize_vector(data):\n",
    "    return (data - np.min(data)) / (np.max(data) - np.min(data))\n",
    "\n",
    "def normalize_landmarks(lm):\n",
    "    c0 = normalize_vector(lm[:,0])\n",
    "    c1 = normalize_vector(lm[:,1])\n",
    "    return np.transpose(np.vstack([[c0], [c1]]))"
   ]
  },
  {
   "cell_type": "code",
   "execution_count": 3,
   "metadata": {},
   "outputs": [],
   "source": [
    "landmarks = []\n",
    "src_filename = glob.glob('../workspace/data_src/aligned/*.jpg')\n",
    "for f in src_filename:\n",
    "    img = DFLJPG.load(f)\n",
    "    landmarks.append(img.get_landmarks())\n",
    "np.save(\"../src_landmarks.npy\", landmarks)"
   ]
  },
  {
   "cell_type": "code",
   "execution_count": 4,
   "metadata": {},
   "outputs": [
    {
     "name": "stdout",
     "output_type": "stream",
     "text": [
      "211\n",
      "211\n"
     ]
    }
   ],
   "source": [
    "\n",
    "print(len(src_filename))\n",
    "print(len(landmarks))\n"
   ]
  },
  {
   "cell_type": "code",
   "execution_count": 5,
   "metadata": {},
   "outputs": [
    {
     "name": "stdout",
     "output_type": "stream",
     "text": [
      "211\n"
     ]
    }
   ],
   "source": [
    "\n",
    "norm_landmarks = [normalize_landmarks(lm) for lm in landmarks]\n",
    "#np.column_stack((NormalizeData(landmarks[0][:,0]), NormalizeData(landmarks[0][:,1])))\n",
    "print(len(norm_landmarks))\n",
    "\n"
   ]
  },
  {
   "cell_type": "code",
   "execution_count": 6,
   "metadata": {},
   "outputs": [],
   "source": [
    "all_src_landmarks = norm_landmarks\n",
    "dst_landmarks = []\n",
    "\n",
    "dists = []\n",
    "#dist_imgs = []\n",
    "for ii, f in enumerate(glob.glob('../workspace/data_dst/aligned/*.jpg')):\n",
    "    img = DFLJPG.load(f)\n",
    "    dst_landmarks = normalize_landmarks(img.get_landmarks())\n",
    "    dists_local = []\n",
    "    #https://stackoverflow.com/questions/32141856/is-norm-equivalent-to-euclidean-distance\n",
    "    #https://stackoverflow.com/questions/50849789/what-does-the-numpy-linalg-norm-function\n",
    "    for f_src, src_landmarks in enumerate(all_src_landmarks):\n",
    "        dist = np.sum(np.linalg.norm(src_landmarks - dst_landmarks, ord=2, axis=1))\n",
    "        dists_local.append((dist, f, src_filename[f_src], dst_landmarks, src_landmarks))\n",
    "    # get the distance between the dst and the best src image\n",
    "    dists.append((sorted(dists_local, key=lambda d: d[0]))[0])\n",
    "\n"
   ]
  },
  {
   "cell_type": "code",
   "execution_count": 7,
   "metadata": {},
   "outputs": [],
   "source": [
    "# sort all samples from the best to the worst landmark pairing\n",
    "dists = list(sorted(dists, key=lambda d: d[0]))\n",
    "\n",
    "dist_scores = list(zip(*dists))[0]"
   ]
  },
  {
   "cell_type": "code",
   "execution_count": 8,
   "metadata": {},
   "outputs": [
    {
     "data": {
      "image/png": "[encoded data removed]",
      "text/plain": [
       "<Figure size 432x288 with 1 Axes>"
      ]
     },
     "metadata": {
      "needs_background": "light"
     },
     "output_type": "display_data"
    }
   ],
   "source": [
    "#rangeMin = np.quantile(dist_scores, 0.05)\n",
    "rangeMax = np.quantile(dist_scores, 0.95)\n",
    "fig = plt.figure() # Create matplotlib figure\n",
    "plt.hist(dist_scores, bins=500)\n",
    "#width = 0.4\n",
    "plt.xlabel('Score')\n",
    "plt.ylabel('Number of imgs')\n",
    "plt.ylim(0, 50)\n",
    "#plt.axvline(rangeMin, color='red')\n",
    "plt.axvline(rangeMax, color='red')\n",
    "plt.show()"
   ]
  },
  {
   "cell_type": "code",
   "execution_count": 9,
   "metadata": {},
   "outputs": [
    {
     "name": "stdout",
     "output_type": "stream",
     "text": [
      "18.54248433754358\n"
     ]
    }
   ],
   "source": [
    "print(np.quantile(dist_scores, q=0.95))\n",
    "#print(np.percentile(dist_scores, q=95))\n",
    "#np.median(dist_scores)"
   ]
  },
  {
   "cell_type": "code",
   "execution_count": 10,
   "metadata": {},
   "outputs": [
    {
     "name": "stdout",
     "output_type": "stream",
     "text": [
      "../workspace/data_dst/aligned/00568_0.jpg 0568 ../workspace/data_src/aligned/26_0.jpg\n"
     ]
    }
   ],
   "source": [
    "img_index = -200#len(dists)-1\n",
    "dst_frame_name = dists[img_index][1]\n",
    "dst_frame_num = str(dists[img_index][1])[-10:-6]\n",
    "src_frame_name = dists[img_index][2]\n",
    "print(dst_frame_name, dst_frame_num, src_frame_name)"
   ]
  },
  {
   "cell_type": "code",
   "execution_count": 11,
   "metadata": {},
   "outputs": [
    {
     "data": {
      "text/plain": [
       "<matplotlib.collections.PathCollection at 0x7f550162e250>"
      ]
     },
     "execution_count": 11,
     "metadata": {},
     "output_type": "execute_result"
    },
    {
     "data": {
      "image/png": "[encoded data removed]",
      "text/plain": [
       "<Figure size 432x288 with 1 Axes>"
      ]
     },
     "metadata": {
      "needs_background": "light"
     },
     "output_type": "display_data"
    }
   ],
   "source": [
    "plt.axis('equal')\n",
    "plt.scatter(list(dists[img_index])[4][:, 0], -list(dists[img_index])[4][:, 1], label='src_img')"
   ]
  },
  {
   "cell_type": "code",
   "execution_count": 12,
   "metadata": {},
   "outputs": [
    {
     "data": {
      "text/plain": [
       "(-0.05, 1.05, -1.05, 0.05)"
      ]
     },
     "execution_count": 12,
     "metadata": {},
     "output_type": "execute_result"
    },
    {
     "data": {
      "image/png": "[encoded data removed]",
      "text/plain": [
       "<Figure size 432x288 with 1 Axes>"
      ]
     },
     "metadata": {
      "needs_background": "light"
     },
     "output_type": "display_data"
    }
   ],
   "source": [
    "plt.scatter(list(dists[img_index])[3][:, 0], -list(dists[img_index])[3][:, 1])\n",
    "plt.plot(list(dists[img_index])[3][:, 0], -list(dists[img_index])[3][:, 1])\n",
    "plt.axis('equal')"
   ]
  },
  {
   "cell_type": "code",
   "execution_count": 13,
   "metadata": {},
   "outputs": [
    {
     "data": {
      "image/png": "[encoded data removed]",
      "text/plain": [
       "<Figure size 432x288 with 1 Axes>"
      ]
     },
     "metadata": {
      "needs_background": "light"
     },
     "output_type": "display_data"
    }
   ],
   "source": [
    "fig = plt.figure()\n",
    "ax1 = fig.add_subplot(111)\n",
    "ax1.set_aspect('equal')\n",
    "\n",
    "ax1.scatter(list(dists[img_index])[4][:, 0], -list(dists[img_index])[4][:, 1], label='src_img')\n",
    "ax1.scatter(list(dists[img_index])[3][:, 0], -list(dists[img_index])[3][:, 1], c='r', label='dst_img')\n",
    "plt.legend(loc='lower left');\n",
    "#plt.show()"
   ]
  },
  {
   "cell_type": "code",
   "execution_count": 14,
   "metadata": {},
   "outputs": [
    {
     "name": "stdout",
     "output_type": "stream",
     "text": [
      "16.682844123829913 16.682844123829913 16.682844123829913\n"
     ]
    },
    {
     "data": {
      "image/png": "[encoded data removed]",
      "text/plain": [
       "<Figure size 432x288 with 1 Axes>"
      ]
     },
     "metadata": {
      "needs_background": "light"
     },
     "output_type": "display_data"
    }
   ],
   "source": [
    "def point_dist(p1, p2):\n",
    "    dx, dy = p2[0] - p1[0], p2[1] - p1[1]\n",
    "    return math.sqrt(dx*dx + dy*dy)\n",
    "src_lm = dists[img_index][3]\n",
    "dst_lm = dists[img_index][4]\n",
    "plt.axis('equal')\n",
    "plt.scatter(src_lm[:,0], -src_lm[:,1], label='src')\n",
    "plt.scatter(dst_lm[:,0], -dst_lm[:,1], label='dst')\n",
    "sum_dd = 0\n",
    "for x1, y1, x2, y2 in zip(src_lm[:,0], -src_lm[:,1], dst_lm[:,0], -dst_lm[:,1]):\n",
    "    plt.plot([x1, x2], [y1, y2], c='r')\n",
    "    dd = point_dist([x1, y1], [x2, y2])\n",
    "    sum_dd += dd\n",
    "plt.legend(loc='lower left');\n",
    "print(sum_dd, dists[img_index][0], np.sum(np.linalg.norm(src_lm - dst_lm, ord=2, axis=1)))"
   ]
  },
  {
   "cell_type": "code",
   "execution_count": 15,
   "metadata": {
    "scrolled": true
   },
   "outputs": [
    {
     "name": "stderr",
     "output_type": "stream",
     "text": [
      "ffmpeg version 3.4.8-0ubuntu0.2 Copyright (c) 2000-2020 the FFmpeg developers\n",
      "  built with gcc 7 (Ubuntu 7.5.0-3ubuntu1~18.04)\n",
      "  configuration: --prefix=/usr --extra-version=0ubuntu0.2 --toolchain=hardened --libdir=/usr/lib/x86_64-linux-gnu --incdir=/usr/include/x86_64-linux-gnu --enable-gpl --disable-stripping --enable-avresample --enable-avisynth --enable-gnutls --enable-ladspa --enable-libass --enable-libbluray --enable-libbs2b --enable-libcaca --enable-libcdio --enable-libflite --enable-libfontconfig --enable-libfreetype --enable-libfribidi --enable-libgme --enable-libgsm --enable-libmp3lame --enable-libmysofa --enable-libopenjpeg --enable-libopenmpt --enable-libopus --enable-libpulse --enable-librubberband --enable-librsvg --enable-libshine --enable-libsnappy --enable-libsoxr --enable-libspeex --enable-libssh --enable-libtheora --enable-libtwolame --enable-libvorbis --enable-libvpx --enable-libwavpack --enable-libwebp --enable-libx265 --enable-libxml2 --enable-libxvid --enable-libzmq --enable-libzvbi --enable-omx --enable-openal --enable-opengl --enable-sdl2 --enable-libdc1394 --enable-libdrm --enable-libiec61883 --enable-chromaprint --enable-frei0r --enable-libopencv --enable-libx264 --enable-shared\n",
      "  libavutil      55. 78.100 / 55. 78.100\n",
      "  libavcodec     57.107.100 / 57.107.100\n",
      "  libavformat    57. 83.100 / 57. 83.100\n",
      "  libavdevice    57. 10.100 / 57. 10.100\n",
      "  libavfilter     6.107.100 /  6.107.100\n",
      "  libavresample   3.  7.  0 /  3.  7.  0\n",
      "  libswscale      4.  8.100 /  4.  8.100\n",
      "  libswresample   2.  9.100 /  2.  9.100\n",
      "  libpostproc    54.  7.100 / 54.  7.100\n",
      "Input #0, mov,mp4,m4a,3gp,3g2,mj2, from '../workspace/result.mp4':\n",
      "  Metadata:\n",
      "    major_brand     : isom\n",
      "    minor_version   : 512\n",
      "    compatible_brands: isomiso2avc1mp41\n",
      "    encoder         : Lavf57.83.100\n",
      "  Duration: 00:02:33.03, start: 0.000000, bitrate: 16063 kb/s\n",
      "    Stream #0:0(und): Video: h264 (High) (avc1 / 0x31637661), yuv420p, 640x480, 16060 kb/s, 30 fps, 30 tbr, 15360 tbn, 60 tbc (default)\n",
      "    Metadata:\n",
      "      handler_name    : VideoHandler\n",
      "File 'frame_0568.jpg' already exists. Overwrite ? [y/N] Not overwriting - exiting\n"
     ]
    }
   ],
   "source": [
    "def get_frame(fname, frame_number):\n",
    "    cmd = f\"ffmpeg -i {fname} -vf select='eq(n\\,{frame_number})' -vsync 0 frame_{frame_number}.jpg\"\n",
    "    os.system(cmd)\n",
    "    \n",
    "video_fname = '../workspace/result.mp4'\n",
    "get_frame(video_fname, dst_frame_num)"
   ]
  },
  {
   "cell_type": "code",
   "execution_count": 16,
   "metadata": {},
   "outputs": [
    {
     "name": "stdout",
     "output_type": "stream",
     "text": [
      "xdg-open frame_0568.jpg &\n",
      "../workspace/data_dst/aligned_debug/00568.jpg\n"
     ]
    },
    {
     "data": {
      "text/plain": [
       "0"
      ]
     },
     "execution_count": 16,
     "metadata": {},
     "output_type": "execute_result"
    }
   ],
   "source": [
    "cmd = 'xdg-open '+dst_frame_name+'&'\n",
    "os.system(cmd)\n",
    "cmd = 'xdg-open frame_'+dst_frame_num+'.jpg &'\n",
    "os.system(cmd)\n",
    "print(cmd)\n",
    "debug_name = str(dst_frame_name)[0:-12]+\"_debug/\"+str(dst_frame_name)[-11:-6]+'.jpg'\n",
    "print(debug_name)\n",
    "cmd = 'xdg-open '+debug_name+'&'\n",
    "os.system(cmd)\n",
    "cmd = 'xdg-open '+src_frame_name+' &'\n",
    "os.system(cmd)"
   ]
  },
  {
   "cell_type": "code",
   "execution_count": 31,
   "metadata": {
    "scrolled": true
   },
   "outputs": [
    {
     "name": "stdout",
     "output_type": "stream",
     "text": [
      "[2895, True, 0.7161437586836934, '../workspace/data_dst/aligned/02895_0.jpg', '../workspace/data_src/aligned/130_0.jpg', 'frame_2895.jpg', array([[8.41408585e-04, 4.17848878e-02],\n",
      "       [0.00000000e+00, 2.11766953e-01],\n",
      "       [3.56257858e-02, 3.55856703e-01],\n",
      "       [6.04149712e-02, 4.86793278e-01],\n",
      "       [1.07006805e-01, 6.17885116e-01],\n",
      "       [1.79078210e-01, 7.40441066e-01],\n",
      "       [2.62180387e-01, 8.36923560e-01],\n",
      "       [3.67063638e-01, 9.37919832e-01],\n",
      "       [5.15746356e-01, 1.00000000e+00],\n",
      "       [6.57787187e-01, 9.35631493e-01],\n",
      "       [7.49149345e-01, 8.31674075e-01],\n",
      "       [8.22321054e-01, 7.31945786e-01],\n",
      "       [8.95557486e-01, 6.19141953e-01],\n",
      "       [9.39810020e-01, 4.88697044e-01],\n",
      "       [9.73139655e-01, 3.62533019e-01],\n",
      "       [9.95589540e-01, 2.31932847e-01],\n",
      "       [1.00000000e+00, 7.50522025e-02],\n",
      "       [1.06307173e-01, 2.51012683e-02],\n",
      "       [1.71801416e-01, 8.13299983e-03],\n",
      "       [2.55378233e-01, 8.72817525e-03],\n",
      "       [3.31558054e-01, 3.54226832e-02],\n",
      "       [3.89569002e-01, 6.19878053e-02],\n",
      "       [6.62123678e-01, 5.95700801e-02],\n",
      "       [7.20393520e-01, 3.38330283e-02],\n",
      "       [7.93220036e-01, 3.84097066e-03],\n",
      "       [8.65917104e-01, 0.00000000e+00],\n",
      "       [9.20315852e-01, 2.21807303e-02],\n",
      "       [5.26767882e-01, 2.41670233e-01],\n",
      "       [5.29797569e-01, 3.63734516e-01],\n",
      "       [5.29215055e-01, 4.81414407e-01],\n",
      "       [5.28805138e-01, 5.64226182e-01],\n",
      "       [4.45163596e-01, 5.76706550e-01],\n",
      "       [4.77802845e-01, 5.90014989e-01],\n",
      "       [5.24934043e-01, 6.12143965e-01],\n",
      "       [5.72237838e-01, 5.99404825e-01],\n",
      "       [6.08683457e-01, 5.77871024e-01],\n",
      "       [2.07340903e-01, 1.69656808e-01],\n",
      "       [2.61890672e-01, 1.61327937e-01],\n",
      "       [3.20031067e-01, 1.61741972e-01],\n",
      "       [3.81654215e-01, 1.92691486e-01],\n",
      "       [3.27039722e-01, 2.14095900e-01],\n",
      "       [2.58041152e-01, 2.04887205e-01],\n",
      "       [6.57821091e-01, 1.94658152e-01],\n",
      "       [7.19703134e-01, 1.73305492e-01],\n",
      "       [7.77843529e-01, 1.73719527e-01],\n",
      "       [8.25082600e-01, 1.74055931e-01],\n",
      "       [7.73994008e-01, 2.17278795e-01],\n",
      "       [7.12198264e-01, 2.21197397e-01],\n",
      "       [3.35654140e-01, 6.76176068e-01],\n",
      "       [4.08221761e-01, 6.98486184e-01],\n",
      "       [4.88164804e-01, 6.99055482e-01],\n",
      "       [5.24459402e-01, 7.08031283e-01],\n",
      "       [5.60840298e-01, 6.99573026e-01],\n",
      "       [6.40761767e-01, 7.04500839e-01],\n",
      "       [6.99053184e-01, 6.74405273e-01],\n",
      "       [6.33256897e-01, 7.52392744e-01],\n",
      "       [5.78577680e-01, 7.86872702e-01],\n",
      "       [5.24049485e-01, 7.90843059e-01],\n",
      "       [4.65930665e-01, 7.86070509e-01],\n",
      "       [4.07962866e-01, 7.50788358e-01],\n",
      "       [3.46555465e-01, 6.76253700e-01],\n",
      "       [4.69844909e-01, 7.29435698e-01],\n",
      "       [5.24308380e-01, 7.38540885e-01],\n",
      "       [5.75224375e-01, 7.30186137e-01],\n",
      "       [6.91764060e-01, 6.78712033e-01],\n",
      "       [5.75245949e-01, 7.25827622e-01],\n",
      "       [5.24329955e-01, 7.34182370e-01],\n",
      "       [4.69844909e-01, 7.29435698e-01]]), array([[0.00000000e+00, 6.24533169e-02],\n",
      "       [1.44121671e-02, 2.16610720e-01],\n",
      "       [4.32678845e-02, 3.54106372e-01],\n",
      "       [6.85165416e-02, 4.74935858e-01],\n",
      "       [1.11814278e-01, 6.04102399e-01],\n",
      "       [1.80382870e-01, 7.33275121e-01],\n",
      "       [2.59785655e-01, 8.41618887e-01],\n",
      "       [3.60849938e-01, 9.45801630e-01],\n",
      "       [5.08854995e-01, 1.00000000e+00],\n",
      "       [6.56881483e-01, 9.37541386e-01],\n",
      "       [7.47151376e-01, 8.45904399e-01],\n",
      "       [8.19371423e-01, 7.50096677e-01],\n",
      "       [8.91597594e-01, 6.20958388e-01],\n",
      "       [9.34945085e-01, 4.79314073e-01],\n",
      "       [9.63847494e-01, 3.62664152e-01],\n",
      "       [9.92752200e-01, 2.33515269e-01],\n",
      "       [1.00000000e+00, 8.35294834e-02],\n",
      "       [1.01089543e-01, 2.91474710e-02],\n",
      "       [1.69687221e-01, 0.00000000e+00],\n",
      "       [2.49108377e-01, 8.35206544e-03],\n",
      "       [3.24917114e-01, 2.92022106e-02],\n",
      "       [3.82672945e-01, 6.25469038e-02],\n",
      "       [6.60652348e-01, 6.26148868e-02],\n",
      "       [7.25640670e-01, 2.93002120e-02],\n",
      "       [7.94237583e-01, 4.31906185e-03],\n",
      "       [8.73661035e-01, 1.72164692e-04],\n",
      "       [9.24198152e-01, 2.51824504e-02],\n",
      "       [5.23433263e-01, 2.50065776e-01],\n",
      "       [5.23411065e-01, 3.70889081e-01],\n",
      "       [5.23388867e-01, 4.91712386e-01],\n",
      "       [5.23374323e-01, 5.70872482e-01],\n",
      "       [4.40340749e-01, 5.75018497e-01],\n",
      "       [4.76438909e-01, 5.91692609e-01],\n",
      "       [5.23366669e-01, 6.12535691e-01],\n",
      "       [5.66691196e-01, 5.95881002e-01],\n",
      "       [6.02796245e-01, 5.75058227e-01],\n",
      "       [1.91315040e-01, 1.79157095e-01],\n",
      "       [2.41859046e-01, 1.66670493e-01],\n",
      "       [3.06839713e-01, 1.75019026e-01],\n",
      "       [3.68205666e-01, 2.08364603e-01],\n",
      "       [3.14050007e-01, 2.29182963e-01],\n",
      "       [2.45459217e-01, 2.20833547e-01],\n",
      "       [6.60626323e-01, 2.04269796e-01],\n",
      "       [7.22003757e-01, 1.75120559e-01],\n",
      "       [7.86986721e-01, 1.70970131e-01],\n",
      "       [8.37526899e-01, 1.79315133e-01],\n",
      "       [7.86977535e-01, 2.20965981e-01],\n",
      "       [7.18383684e-01, 2.29281848e-01],\n",
      "       [3.32016419e-01, 6.87482673e-01],\n",
      "       [3.96996321e-01, 6.99997528e-01],\n",
      "       [4.80029895e-01, 6.95851514e-01],\n",
      "       [5.23349064e-01, 7.08361071e-01],\n",
      "       [5.59452581e-01, 6.95870937e-01],\n",
      "       [6.38874503e-01, 7.00056682e-01],\n",
      "       [6.93028631e-01, 6.87570963e-01],\n",
      "       [6.31642777e-01, 7.62549729e-01],\n",
      "       [5.77483291e-01, 8.04199694e-01],\n",
      "       [5.16109684e-01, 8.12517327e-01],\n",
      "       [4.58349261e-01, 8.04170559e-01],\n",
      "       [3.96984839e-01, 7.62492341e-01],\n",
      "       [3.42846785e-01, 6.87485322e-01],\n",
      "       [4.61973161e-01, 7.29177666e-01],\n",
      "       [5.16124227e-01, 7.33357230e-01],\n",
      "       [5.70276824e-01, 7.29204153e-01],\n",
      "       [6.78588142e-01, 6.87567431e-01],\n",
      "       [5.70274528e-01, 7.41703116e-01],\n",
      "       [5.16121165e-01, 7.50022514e-01],\n",
      "       [4.61970864e-01, 7.41676629e-01]])]\n"
     ]
    }
   ],
   "source": [
    "dists_w_result = []\n",
    "for i, d in enumerate(dists):\n",
    "    dists_w_result.append([int(os.path.basename(dists[i][1]).split('_')[0]), d[0] < rangeMax, d[0], d[1],  d[2], \"frame_\"+str(dists[i][1])[-10:-6]+\".jpg\", d[3], d[4]])\n",
    "print((dists_w_result)[0])"
   ]
  },
  {
   "cell_type": "code",
   "execution_count": 51,
   "metadata": {},
   "outputs": [
    {
     "name": "stdout",
     "output_type": "stream",
     "text": [
      "../workspace/data_dst/aligned/00556_0.jpg 556 ../workspace/data_src/aligned/23_0.jpg\n",
      "xdg-open res_selected_frames/frame_556.jpg &\n",
      "../workspace/data_dst/aligned_debug/00556.jpg\n"
     ]
    },
    {
     "name": "stderr",
     "output_type": "stream",
     "text": [
      "gio: file:///home/npunito/DeepFaceLab_Linux/DeepFaceLab/res_selected_frames/frame_556.jpg: Error when getting information for file “/home/npunito/DeepFaceLab_Linux/DeepFaceLab/res_selected_frames/frame_556.jpg”: No such file or directory\n"
     ]
    },
    {
     "data": {
      "text/plain": [
       "0"
      ]
     },
     "execution_count": 51,
     "metadata": {},
     "output_type": "execute_result"
    }
   ],
   "source": [
    "img_index = 555#ordered_by_res_name)-1\n",
    "dst_frame_name = ordered_by_res_name[img_index][3]\n",
    "dst_frame_num = str(ordered_by_res_name[img_index][0])\n",
    "src_frame_name = ordered_by_res_name[img_index][4]\n",
    "print(dst_frame_name, dst_frame_num, src_frame_name)\n",
    "\n",
    "cmd = 'xdg-open '+dst_frame_name+'&'\n",
    "os.system(cmd)\n",
    "cmd = 'xdg-open res_selected_frames/frame_'+dst_frame_num+'.jpg &'\n",
    "os.system(cmd)\n",
    "print(cmd)\n",
    "debug_name = str(dst_frame_name)[0:-12]+\"_debug/\"+str(dst_frame_name)[-11:-6]+'.jpg'\n",
    "print(debug_name)\n",
    "cmd = 'xdg-open '+debug_name+'&'\n",
    "os.system(cmd)\n",
    "cmd = 'xdg-open '+src_frame_name+' &'\n",
    "os.system(cmd)"
   ]
  },
  {
   "cell_type": "code",
   "execution_count": 52,
   "metadata": {},
   "outputs": [],
   "source": [
    "headers = [\"dst_index\", \"valid_face\" , \"landmark_distance_sum\", \"dst_frame_name\", \"src_frame_name\", \"result_frame_name\", \"landmarks\"]\n",
    "with open('dists.csv', 'w') as v:\n",
    "    write = csv.writer(v) \n",
    "    write.writerow(headers)\n",
    "    write.writerows(dists_w_result)\n",
    "v.close()"
   ]
  }
 ],
 "metadata": {
  "kernelspec": {
   "display_name": "Python 3 (ipykernel)",
   "language": "python",
   "name": "python3"
  },
  "language_info": {
   "codemirror_mode": {
    "name": "ipython",
    "version": 3
   },
   "file_extension": ".py",
   "mimetype": "text/x-python",
   "name": "python",
   "nbconvert_exporter": "python",
   "pygments_lexer": "ipython3",
   "version": "3.9.7"
  }
 },
 "nbformat": 4,
 "nbformat_minor": 4
}
