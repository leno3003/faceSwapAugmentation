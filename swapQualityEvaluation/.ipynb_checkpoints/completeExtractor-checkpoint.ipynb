{
 "cells": [
  {
   "cell_type": "code",
   "execution_count": 44,
   "metadata": {},
   "outputs": [],
   "source": [
    "from DFLIMG import DFLJPG\n",
    "import glob\n",
    "import numpy as np\n",
    "import matplotlib.pyplot as plt\n",
    "import os, sys, math\n",
    "import csv\n",
    "import cv2 "
   ]
  },
  {
   "cell_type": "code",
   "execution_count": 7,
   "metadata": {},
   "outputs": [],
   "source": [
    "def normalize_vector(data):\n",
    "    return (data - np.min(data)) / (np.max(data) - np.min(data))\n",
    "\n",
    "def normalize_landmarks(lm):\n",
    "    c0 = normalize_vector(lm[:,0])\n",
    "    c1 = normalize_vector(lm[:,1])\n",
    "    return np.transpose(np.vstack([[c0], [c1]]))"
   ]
  },
  {
   "cell_type": "code",
   "execution_count": 8,
   "metadata": {},
   "outputs": [],
   "source": [
    "landmarks = []\n",
    "src_filename = glob.glob('../workspace/data_src/aligned/*.jpg')\n",
    "for f in src_filename:\n",
    "    img = DFLJPG.load(f)\n",
    "    landmarks.append(img.get_landmarks())\n",
    "np.save(\"../src_landmarks.npy\", landmarks)"
   ]
  },
  {
   "cell_type": "code",
   "execution_count": 9,
   "metadata": {},
   "outputs": [
    {
     "name": "stdout",
     "output_type": "stream",
     "text": [
      "35\n",
      "35\n"
     ]
    }
   ],
   "source": [
    "\n",
    "print(len(src_filename))\n",
    "print(len(landmarks))\n"
   ]
  },
  {
   "cell_type": "code",
   "execution_count": 10,
   "metadata": {},
   "outputs": [
    {
     "name": "stdout",
     "output_type": "stream",
     "text": [
      "35\n"
     ]
    }
   ],
   "source": [
    "\n",
    "norm_landmarks = [normalize_landmarks(lm) for lm in landmarks]\n",
    "#np.column_stack((NormalizeData(landmarks[0][:,0]), NormalizeData(landmarks[0][:,1])))\n",
    "print(len(norm_landmarks))\n",
    "\n"
   ]
  },
  {
   "cell_type": "code",
   "execution_count": 66,
   "metadata": {},
   "outputs": [],
   "source": [
    "all_src_landmarks = norm_landmarks\n",
    "dst_landmarks = []\n",
    "\n",
    "dists = []\n",
    "#dist_imgs = []\n",
    "for ii, f in enumerate(glob.glob('../workspace/data_dst/aligned/*.jpg')):\n",
    "    img = DFLJPG.load(f)\n",
    "    dst_landmarks = normalize_landmarks(img.get_landmarks())\n",
    "    dists_local = []\n",
    "    #https://stackoverflow.com/questions/32141856/is-norm-equivalent-to-euclidean-distance\n",
    "    #https://stackoverflow.com/questions/50849789/what-does-the-numpy-linalg-norm-function\n",
    "    for f_src, src_landmarks in enumerate(all_src_landmarks):\n",
    "        dist = np.sum(np.linalg.norm(src_landmarks - dst_landmarks, ord=2, axis=1))\n",
    "        dists_local.append((dist, f, src_filename[f_src], dst_landmarks, src_landmarks))\n",
    "    # get the distance between the dst and the best src image\n",
    "    dists.append((sorted(dists_local, key=lambda d: d[0]))[0])\n",
    "\n"
   ]
  },
  {
   "cell_type": "code",
   "execution_count": 70,
   "metadata": {},
   "outputs": [],
   "source": [
    "# sort all samples from the best to the worst landmark pairing\n",
    "dists = list(sorted(dists, key=lambda d: d[0]))\n",
    "\n",
    "dist_scores = list(zip(*dists))[0]"
   ]
  },
  {
   "cell_type": "code",
   "execution_count": 106,
   "metadata": {},
   "outputs": [
    {
     "data": {
      "image/png": "[encoded data removed]",
      "text/plain": [
       "<Figure size 432x288 with 1 Axes>"
      ]
     },
     "metadata": {
      "needs_background": "light"
     },
     "output_type": "display_data"
    }
   ],
   "source": [
    "#rangeMin = np.quantile(dist_scores, 0.05)\n",
    "rangeMax = np.quantile(dist_scores, 0.95)\n",
    "fig = plt.figure() # Create matplotlib figure\n",
    "plt.hist(dist_scores, bins=500)\n",
    "#width = 0.4\n",
    "plt.xlabel('Score')\n",
    "plt.ylabel('Number of imgs')\n",
    "plt.ylim(0, 50)\n",
    "#plt.axvline(rangeMin, color='red')\n",
    "plt.axvline(rangeMax, color='red')\n",
    "plt.show()"
   ]
  },
  {
   "cell_type": "code",
   "execution_count": 105,
   "metadata": {},
   "outputs": [
    {
     "name": "stdout",
     "output_type": "stream",
     "text": [
      "11.361666013899043\n",
      "11.361666013899043\n"
     ]
    },
    {
     "data": {
      "text/plain": [
       "4.859941165251637"
      ]
     },
     "execution_count": 105,
     "metadata": {},
     "output_type": "execute_result"
    }
   ],
   "source": [
    "print(np.quantile(dist_scores, q=0.95))\n",
    "#print(np.percentile(dist_scores, q=95))\n",
    "#np.median(dist_scores)"
   ]
  },
  {
   "cell_type": "code",
   "execution_count": 94,
   "metadata": {},
   "outputs": [
    {
     "name": "stdout",
     "output_type": "stream",
     "text": [
      "../workspace/data_dst/aligned/02317_0.jpg 2317 ../workspace/data_src/aligned/BM23SUS_0.jpg\n"
     ]
    }
   ],
   "source": [
    "img_index = -200#len(dists)-1\n",
    "dst_frame_name = dists[img_index][1]\n",
    "dst_frame_num = str(dists[img_index][1])[-10:-6]\n",
    "src_frame_name = dists[img_index][2]\n",
    "print(dst_frame_name, dst_frame_num, src_frame_name)"
   ]
  },
  {
   "cell_type": "code",
   "execution_count": 107,
   "metadata": {},
   "outputs": [
    {
     "data": {
      "text/plain": [
       "<matplotlib.collections.PathCollection at 0x7fe8611f9fd0>"
      ]
     },
     "execution_count": 107,
     "metadata": {},
     "output_type": "execute_result"
    },
    {
     "data": {
      "image/png": "[encoded data removed]",
      "text/plain": [
       "<Figure size 432x288 with 1 Axes>"
      ]
     },
     "metadata": {
      "needs_background": "light"
     },
     "output_type": "display_data"
    }
   ],
   "source": [
    "plt.axis('equal')\n",
    "plt.scatter(list(dists[img_index])[4][:, 0], -list(dists[img_index])[4][:, 1], label='src_img')"
   ]
  },
  {
   "cell_type": "code",
   "execution_count": 108,
   "metadata": {},
   "outputs": [
    {
     "data": {
      "text/plain": [
       "(-0.05, 1.05, -1.05, 0.05)"
      ]
     },
     "execution_count": 108,
     "metadata": {},
     "output_type": "execute_result"
    },
    {
     "data": {
      "image/png": "[encoded data removed]",
      "text/plain": [
       "<Figure size 432x288 with 1 Axes>"
      ]
     },
     "metadata": {
      "needs_background": "light"
     },
     "output_type": "display_data"
    }
   ],
   "source": [
    "plt.scatter(list(dists[img_index])[3][:, 0], -list(dists[img_index])[3][:, 1])\n",
    "plt.plot(list(dists[img_index])[3][:, 0], -list(dists[img_index])[3][:, 1])\n",
    "plt.axis('equal')"
   ]
  },
  {
   "cell_type": "code",
   "execution_count": 109,
   "metadata": {},
   "outputs": [
    {
     "data": {
      "image/png": "[encoded data removed]",
      "text/plain": [
       "<Figure size 432x288 with 1 Axes>"
      ]
     },
     "metadata": {
      "needs_background": "light"
     },
     "output_type": "display_data"
    }
   ],
   "source": [
    "fig = plt.figure()\n",
    "ax1 = fig.add_subplot(111)\n",
    "ax1.set_aspect('equal')\n",
    "\n",
    "ax1.scatter(list(dists[img_index])[4][:, 0], -list(dists[img_index])[4][:, 1], label='src_img')\n",
    "ax1.scatter(list(dists[img_index])[3][:, 0], -list(dists[img_index])[3][:, 1], c='r', label='dst_img')\n",
    "plt.legend(loc='lower left');\n",
    "#plt.show()"
   ]
  },
  {
   "cell_type": "code",
   "execution_count": 111,
   "metadata": {},
   "outputs": [
    {
     "name": "stdout",
     "output_type": "stream",
     "text": [
      "2.6488688752965657 2.648868875296566 2.648868875296566\n"
     ]
    },
    {
     "data": {
      "image/png": "[encoded data removed]",
      "text/plain": [
       "<Figure size 432x288 with 1 Axes>"
      ]
     },
     "metadata": {
      "needs_background": "light"
     },
     "output_type": "display_data"
    }
   ],
   "source": [
    "def point_dist(p1, p2):\n",
    "    dx, dy = p2[0] - p1[0], p2[1] - p1[1]\n",
    "    return math.sqrt(dx*dx + dy*dy)\n",
    "src_lm = dists[img_index][3]\n",
    "dst_lm = dists[img_index][4]\n",
    "plt.axis('equal')\n",
    "plt.scatter(src_lm[:,0], -src_lm[:,1], label='src')\n",
    "plt.scatter(dst_lm[:,0], -dst_lm[:,1], label='dst')\n",
    "sum_dd = 0\n",
    "for x1, y1, x2, y2 in zip(src_lm[:,0], -src_lm[:,1], dst_lm[:,0], -dst_lm[:,1]):\n",
    "    plt.plot([x1, x2], [y1, y2], c='r')\n",
    "    dd = point_dist([x1, y1], [x2, y2])\n",
    "    sum_dd += dd\n",
    "plt.legend(loc='lower left');\n",
    "print(sum_dd, dists[img_index][0], np.sum(np.linalg.norm(src_lm - dst_lm, ord=2, axis=1)))"
   ]
  },
  {
   "cell_type": "code",
   "execution_count": 99,
   "metadata": {
    "scrolled": true
   },
   "outputs": [
    {
     "name": "stderr",
     "output_type": "stream",
     "text": [
      "ffmpeg version 3.4.8-0ubuntu0.2 Copyright (c) 2000-2020 the FFmpeg developers\n",
      "  built with gcc 7 (Ubuntu 7.5.0-3ubuntu1~18.04)\n",
      "  configuration: --prefix=/usr --extra-version=0ubuntu0.2 --toolchain=hardened --libdir=/usr/lib/x86_64-linux-gnu --incdir=/usr/include/x86_64-linux-gnu --enable-gpl --disable-stripping --enable-avresample --enable-avisynth --enable-gnutls --enable-ladspa --enable-libass --enable-libbluray --enable-libbs2b --enable-libcaca --enable-libcdio --enable-libflite --enable-libfontconfig --enable-libfreetype --enable-libfribidi --enable-libgme --enable-libgsm --enable-libmp3lame --enable-libmysofa --enable-libopenjpeg --enable-libopenmpt --enable-libopus --enable-libpulse --enable-librubberband --enable-librsvg --enable-libshine --enable-libsnappy --enable-libsoxr --enable-libspeex --enable-libssh --enable-libtheora --enable-libtwolame --enable-libvorbis --enable-libvpx --enable-libwavpack --enable-libwebp --enable-libx265 --enable-libxml2 --enable-libxvid --enable-libzmq --enable-libzvbi --enable-omx --enable-openal --enable-opengl --enable-sdl2 --enable-libdc1394 --enable-libdrm --enable-libiec61883 --enable-chromaprint --enable-frei0r --enable-libopencv --enable-libx264 --enable-shared\n",
      "  libavutil      55. 78.100 / 55. 78.100\n",
      "  libavcodec     57.107.100 / 57.107.100\n",
      "  libavformat    57. 83.100 / 57. 83.100\n",
      "  libavdevice    57. 10.100 / 57. 10.100\n",
      "  libavfilter     6.107.100 /  6.107.100\n",
      "  libavresample   3.  7.  0 /  3.  7.  0\n",
      "  libswscale      4.  8.100 /  4.  8.100\n",
      "  libswresample   2.  9.100 /  2.  9.100\n",
      "  libpostproc    54.  7.100 / 54.  7.100\n",
      "Input #0, mov,mp4,m4a,3gp,3g2,mj2, from '../workspace/result.mp4':\n",
      "  Metadata:\n",
      "    major_brand     : isom\n",
      "    minor_version   : 512\n",
      "    compatible_brands: isomiso2avc1mp41\n",
      "    encoder         : Lavf57.83.100\n",
      "  Duration: 00:02:40.93, start: 0.000000, bitrate: 16017 kb/s\n",
      "    Stream #0:0(und): Video: h264 (High) (avc1 / 0x31637661), yuv420p, 640x480, 16014 kb/s, 30 fps, 30 tbr, 15360 tbn, 60 tbc (default)\n",
      "    Metadata:\n",
      "      handler_name    : VideoHandler\n",
      "Stream mapping:\n",
      "  Stream #0:0 -> #0:0 (h264 (native) -> mjpeg (native))\n",
      "Press [q] to stop, [?] for help\n",
      "[swscaler @ 0x55999d536d20] deprecated pixel format used, make sure you did set range correctly\n",
      "Output #0, image2, to 'frame_2317.jpg':\n",
      "  Metadata:\n",
      "    major_brand     : isom\n",
      "    minor_version   : 512\n",
      "    compatible_brands: isomiso2avc1mp41\n",
      "    encoder         : Lavf57.83.100\n",
      "    Stream #0:0(und): Video: mjpeg, yuvj420p(pc), 640x480, q=2-31, 200 kb/s, 30 fps, 30 tbn, 30 tbc (default)\n",
      "    Metadata:\n",
      "      handler_name    : VideoHandler\n",
      "      encoder         : Lavc57.107.100 mjpeg\n",
      "    Side data:\n",
      "      cpb: bitrate max/min/avg: 0/0/200000 buffer size: 0 vbv_delay: -1\n",
      "frame=    1 fps=0.4 q=1.6 Lsize=N/A time=00:01:17.26 bitrate=N/A speed=33.3x    \n",
      "video:38kB audio:0kB subtitle:0kB other streams:0kB global headers:0kB muxing overhead: unknown\n"
     ]
    }
   ],
   "source": [
    "def get_frame(fname, frame_number):\n",
    "    cmd = f\"ffmpeg -i {fname} -vf select='eq(n\\,{frame_number})' -vsync 0 frame_{frame_number}.jpg\"\n",
    "    os.system(cmd)\n",
    "    \n",
    "video_fname = '../workspace/result.mp4'\n",
    "get_frame(video_fname, dst_frame_num)"
   ]
  },
  {
   "cell_type": "code",
   "execution_count": 100,
   "metadata": {},
   "outputs": [
    {
     "name": "stdout",
     "output_type": "stream",
     "text": [
      "xdg-open frame_2317.jpg &\n",
      "../workspace/data_dst/aligned_debug/02317.jpg\n"
     ]
    },
    {
     "data": {
      "text/plain": [
       "0"
      ]
     },
     "execution_count": 100,
     "metadata": {},
     "output_type": "execute_result"
    },
    {
     "name": "stderr",
     "output_type": "stream",
     "text": [
      "\n",
      "(eog:3685): EOG-WARNING **: 15:10:21.144: Failed to open file '/home/npunito/.cache/thumbnails/normal/b3abb092b88e6dae98972779cc0c224d.png': No such file or directory\n"
     ]
    }
   ],
   "source": [
    "cmd = 'xdg-open '+dst_frame_name+'&'\n",
    "os.system(cmd)\n",
    "cmd = 'xdg-open frame_'+dst_frame_num+'.jpg &'\n",
    "os.system(cmd)\n",
    "print(cmd)\n",
    "debug_name = str(dst_frame_name)[0:-12]+\"_debug/\"+str(dst_frame_name)[-11:-6]+'.jpg'\n",
    "print(debug_name)\n",
    "cmd = 'xdg-open '+debug_name+'&'\n",
    "os.system(cmd)\n",
    "cmd = 'xdg-open '+src_frame_name+' &'\n",
    "os.system(cmd)"
   ]
  },
  {
   "cell_type": "code",
   "execution_count": 130,
   "metadata": {
    "scrolled": true
   },
   "outputs": [
    {
     "name": "stdout",
     "output_type": "stream",
     "text": [
      "[11, True, 1.0033738673885364, '../workspace/data_dst/aligned/04076_0.jpg', '../workspace/data_src/aligned/BM23NEHR_0.jpg', 'frame_4076.jpg', array([[0.00000000e+00, 2.20892293e-01],\n",
      "       [1.75372659e-02, 3.43284924e-01],\n",
      "       [3.50745317e-02, 4.65677556e-01],\n",
      "       [5.64967949e-02, 5.84622314e-01],\n",
      "       [1.08479914e-01, 7.14382884e-01],\n",
      "       [2.22103866e-01, 8.27376277e-01],\n",
      "       [3.66949377e-01, 9.02314283e-01],\n",
      "       [5.27334876e-01, 9.63460794e-01],\n",
      "       [6.72699510e-01, 1.00000000e+00],\n",
      "       [7.88258377e-01, 9.69870594e-01],\n",
      "       [8.23459318e-01, 9.21385733e-01],\n",
      "       [8.43497814e-01, 8.58765966e-01],\n",
      "       [8.75852004e-01, 7.36931378e-01],\n",
      "       [9.15928996e-01, 6.11691844e-01],\n",
      "       [9.55911601e-01, 4.93433909e-01],\n",
      "       [9.72678609e-01, 3.88881616e-01],\n",
      "       [9.59120727e-01, 2.56059510e-01],\n",
      "       [3.47573267e-01, 6.41788760e-02],\n",
      "       [4.44179077e-01, 1.63808381e-02],\n",
      "       [5.40360150e-01, 0.00000000e+00],\n",
      "       [6.20954041e-01, 9.01455915e-04],\n",
      "       [6.85960749e-01, 1.90852058e-02],\n",
      "       [8.96804021e-01, 3.89001617e-02],\n",
      "       [9.42857673e-01, 3.94152794e-02],\n",
      "       [9.73560107e-01, 3.97586911e-02],\n",
      "       [1.00000000e+00, 7.14763763e-02],\n",
      "       [9.87731499e-01, 1.27200397e-01],\n",
      "       [8.06882766e-01, 1.60090852e-01],\n",
      "       [8.55688782e-01, 2.40937296e-01],\n",
      "       [8.96771997e-01, 3.25188686e-01],\n",
      "       [9.07247164e-01, 4.02115065e-01],\n",
      "       [7.25879308e-01, 4.73404321e-01],\n",
      "       [7.75629185e-01, 4.84434765e-01],\n",
      "       [8.21588451e-01, 4.91931483e-01],\n",
      "       [8.48547467e-01, 4.85250368e-01],\n",
      "       [8.60155266e-01, 4.78397547e-01],\n",
      "       [4.42149777e-01, 1.66485237e-01],\n",
      "       [5.19189022e-01, 1.46398967e-01],\n",
      "       [5.76756086e-01, 1.47042864e-01],\n",
      "       [6.14850971e-01, 1.68416928e-01],\n",
      "       [5.76284156e-01, 1.81950864e-01],\n",
      "       [5.18669898e-01, 1.84797767e-01],\n",
      "       [8.25835822e-01, 1.77759484e-01],\n",
      "       [8.83638852e-01, 1.60949382e-01],\n",
      "       [9.33435922e-01, 1.68489026e-01],\n",
      "       [9.33011185e-01, 1.99906225e-01],\n",
      "       [9.21356193e-01, 2.10249846e-01],\n",
      "       [8.75444120e-01, 1.99262328e-01],\n",
      "       [5.58588457e-01, 6.39116882e-01],\n",
      "       [6.74147324e-01, 6.08987476e-01],\n",
      "       [7.66537786e-01, 5.89072911e-01],\n",
      "       [8.00983638e-01, 5.96440850e-01],\n",
      "       [8.27848269e-01, 5.96741335e-01],\n",
      "       [8.58267545e-01, 6.18029546e-01],\n",
      "       [8.42397204e-01, 6.56256640e-01],\n",
      "       [8.38181856e-01, 6.84140114e-01],\n",
      "       [8.18756869e-01, 7.01379481e-01],\n",
      "       [7.80378826e-01, 7.00950217e-01],\n",
      "       [7.26743952e-01, 6.93367646e-01],\n",
      "       [6.65622241e-01, 6.71736023e-01],\n",
      "       [5.70149063e-01, 6.35754861e-01],\n",
      "       [7.27593426e-01, 6.30533246e-01],\n",
      "       [7.73647078e-01, 6.31048364e-01],\n",
      "       [8.08092931e-01, 6.38416302e-01],\n",
      "       [8.38653786e-01, 6.49232114e-01],\n",
      "       [8.07951352e-01, 6.48888702e-01],\n",
      "       [7.73411113e-01, 6.48502364e-01],\n",
      "       [7.27451847e-01, 6.41005646e-01]]), array([[0.        , 0.20326274],\n",
      "       [0.01753835, 0.33430388],\n",
      "       [0.03510196, 0.46189966],\n",
      "       [0.05274137, 0.57915937],\n",
      "       [0.11837555, 0.71050637],\n",
      "       [0.22855749, 0.82146356],\n",
      "       [0.37231446, 0.8947336 ],\n",
      "       [0.52354658, 0.95771463],\n",
      "       [0.67123061, 1.        ],\n",
      "       [0.78247366, 0.96625228],\n",
      "       [0.81237427, 0.92509624],\n",
      "       [0.83132744, 0.86319748],\n",
      "       [0.8765068 , 0.7566738 ],\n",
      "       [0.91441312, 0.63287629],\n",
      "       [0.94127094, 0.50211749],\n",
      "       [0.9606536 , 0.3816477 ],\n",
      "       [0.95423955, 0.24723179],\n",
      "       [0.35260651, 0.05045689],\n",
      "       [0.45280105, 0.00974787],\n",
      "       [0.54536885, 0.        ],\n",
      "       [0.63041096, 0.00743185],\n",
      "       [0.68575457, 0.02845689],\n",
      "       [0.9002097 , 0.04704827],\n",
      "       [0.93728229, 0.03694749],\n",
      "       [0.97427909, 0.03718276],\n",
      "       [1.        , 0.06146494],\n",
      "       [0.99229747, 0.10276215],\n",
      "       [0.79950987, 0.15666439],\n",
      "       [0.83957474, 0.24305708],\n",
      "       [0.88711476, 0.31916075],\n",
      "       [0.89770851, 0.38813844],\n",
      "       [0.73066708, 0.46287751],\n",
      "       [0.77868713, 0.47351943],\n",
      "       [0.8230075 , 0.48413783],\n",
      "       [0.84895579, 0.47741181],\n",
      "       [0.86005483, 0.4774824 ],\n",
      "       [0.44439111, 0.14751503],\n",
      "       [0.52228651, 0.12044627],\n",
      "       [0.57408203, 0.12077565],\n",
      "       [0.61082618, 0.15546448],\n",
      "       [0.57370306, 0.17245598],\n",
      "       [0.5108085 , 0.17205601],\n",
      "       [0.82528131, 0.17405586],\n",
      "       [0.88460251, 0.15720553],\n",
      "       [0.93264782, 0.1644021 ],\n",
      "       [0.93244571, 0.19196494],\n",
      "       [0.91757119, 0.2022069 ],\n",
      "       [0.8732003 , 0.19847921],\n",
      "       [0.57751485, 0.66174347],\n",
      "       [0.69258391, 0.6107925 ],\n",
      "       [0.78525276, 0.58726321],\n",
      "       [0.82219903, 0.5943892 ],\n",
      "       [0.84812206, 0.59110853],\n",
      "       [0.87374191, 0.62917213],\n",
      "       [0.85856422, 0.68075835],\n",
      "       [0.85466242, 0.70829767],\n",
      "       [0.83606296, 0.72196145],\n",
      "       [0.79539175, 0.71825729],\n",
      "       [0.74367202, 0.70759184],\n",
      "       [0.68090378, 0.68996509],\n",
      "       [0.58866442, 0.65492334],\n",
      "       [0.74787699, 0.63870826],\n",
      "       [0.79967251, 0.63903765],\n",
      "       [0.82554501, 0.6426477 ],\n",
      "       [0.85119012, 0.67726594],\n",
      "       [0.8290931 , 0.66334335],\n",
      "       [0.7920963 , 0.66310808],\n",
      "       [0.74405099, 0.65591151]])]\n"
     ]
    }
   ],
   "source": [
    "dists_w_result = []\n",
    "for i, d in enumerate(dists):\n",
    "    dists_w_result.append([int(os.path.basename(ordered_by_res_name[10][1]).split('_')[0]), d[0] < rangeMax, d[0], d[1],  d[2], \"frame_\"+str(dists[i][1])[-10:-6]+\".jpg\", d[3], d[4]])\n",
    "print((dists_w_result)[0])"
   ]
  },
  {
   "cell_type": "code",
   "execution_count": 85,
   "metadata": {
    "scrolled": true
   },
   "outputs": [
    {
     "name": "stdout",
     "output_type": "stream",
     "text": [
      "4058\n"
     ]
    }
   ],
   "source": [
    "i = 0\n",
    "for ii,d in enumerate(dists_w_result):\n",
    "    if d[0] < rangeMax:\n",
    "       i = i + 1\n",
    "print(i)"
   ]
  },
  {
   "cell_type": "code",
   "execution_count": 131,
   "metadata": {
    "scrolled": true
   },
   "outputs": [
    {
     "name": "stdout",
     "output_type": "stream",
     "text": [
      "frame_0001.jpg\n"
     ]
    }
   ],
   "source": [
    "ordered_by_res_name = list(sorted(dists_w_result, key=lambda d: str(d[3])))\n",
    "print(ordered_by_res_name[0][5])"
   ]
  },
  {
   "cell_type": "code",
   "execution_count": 113,
   "metadata": {},
   "outputs": [
    {
     "data": {
      "image/png": "[encoded data removed]",
      "text/plain": [
       "<Figure size 432x288 with 1 Axes>"
      ]
     },
     "metadata": {
      "needs_background": "light"
     },
     "output_type": "display_data"
    }
   ],
   "source": [
    "img_index = 555\n",
    "fig = plt.figure()\n",
    "ax1 = fig.add_subplot(111)\n",
    "\n",
    "ax1.scatter(list(ordered_by_res_name[img_index])[5][:, 0], -list(ordered_by_res_name[img_index])[5][:, 1], label='src_img')\n",
    "ax1.scatter(list(ordered_by_res_name[img_index])[4][:, 0], -list(ordered_by_res_name[img_index])[4][:, 1], c='r', label='dst_img')\n",
    "plt.legend(loc='lower left');\n",
    "#plt.show()"
   ]
  },
  {
   "cell_type": "code",
   "execution_count": 128,
   "metadata": {},
   "outputs": [
    {
     "name": "stdout",
     "output_type": "stream",
     "text": [
      "11\n"
     ]
    }
   ],
   "source": [
    "print(int(os.path.basename(ordered_by_res_name[10][1]).split('_')[0]))\n",
    "#ordered_by_res_name[10][1].split('/')[-1].split('_')[0])"
   ]
  },
  {
   "cell_type": "code",
   "execution_count": 114,
   "metadata": {},
   "outputs": [
    {
     "name": "stdout",
     "output_type": "stream",
     "text": [
      "../workspace/data_dst/aligned/00556_0.jpg 0556 ../workspace/data_src/aligned/BM23NEHR_0.jpg\n",
      "xdg-open res_selected_frames/frame_0556.jpg &\n",
      "../workspace/data_dst/aligned_debug/00556.jpg\n"
     ]
    },
    {
     "data": {
      "text/plain": [
       "0"
      ]
     },
     "execution_count": 114,
     "metadata": {},
     "output_type": "execute_result"
    }
   ],
   "source": [
    "img_index = 555#ordered_by_res_name)-1\n",
    "dst_frame_name = ordered_by_res_name[img_index][1]\n",
    "dst_frame_num = int(str(ordered_by_res_name[img_index][1])[-10:-6])\n",
    "src_frame_name = ordered_by_res_name[img_index][2]\n",
    "print(dst_frame_name, dst_frame_num, src_frame_name)\n",
    "\n",
    "cmd = 'xdg-open '+dst_frame_name+'&'\n",
    "os.system(cmd)\n",
    "cmd = 'xdg-open res_selected_frames/frame_'+dst_frame_num+'.jpg &'\n",
    "os.system(cmd)\n",
    "print(cmd)\n",
    "debug_name = str(dst_frame_name)[0:-12]+\"_debug/\"+str(dst_frame_name)[-11:-6]+'.jpg'\n",
    "print(debug_name)\n",
    "cmd = 'xdg-open '+debug_name+'&'\n",
    "os.system(cmd)\n",
    "cmd = 'xdg-open '+src_frame_name+' &'\n",
    "os.system(cmd)"
   ]
  },
  {
   "cell_type": "code",
   "execution_count": 134,
   "metadata": {},
   "outputs": [],
   "source": [
    "headers = [\"dst_index\", \"valid_face\" , \"landmark_distance_sum\", \"dst_frame_name\", \"src_frame_name\", \"result_frame_name\", \"landmarks\"]\n",
    "with open('dists.csv', 'w') as v:\n",
    "    write = csv.writer(v) \n",
    "    write.writerow(headers)\n",
    "    write.writerows(dists_w_result)\n",
    "v.close()"
   ]
  },
  {
   "cell_type": "code",
   "execution_count": null,
   "metadata": {},
   "outputs": [],
   "source": []
  },
  {
   "cell_type": "code",
   "execution_count": null,
   "metadata": {},
   "outputs": [],
   "source": []
  }
 ],
 "metadata": {
  "kernelspec": {
   "display_name": "Python 3 (ipykernel)",
   "language": "python",
   "name": "python3"
  },
  "language_info": {
   "codemirror_mode": {
    "name": "ipython",
    "version": 3
   },
   "file_extension": ".py",
   "mimetype": "text/x-python",
   "name": "python",
   "nbconvert_exporter": "python",
   "pygments_lexer": "ipython3",
   "version": "3.9.7"
  }
 },
 "nbformat": 4,
 "nbformat_minor": 4
}
